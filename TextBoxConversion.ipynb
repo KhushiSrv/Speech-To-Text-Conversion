{
 "cells": [
  {
   "cell_type": "code",
   "execution_count": 1,
   "metadata": {},
   "outputs": [],
   "source": [
    "import tkinter as tk\n",
    "import speech_recognition as sr \n",
    "from tkinter import messagebox "
   ]
  },
  {
   "cell_type": "code",
   "execution_count": 2,
   "metadata": {},
   "outputs": [
    {
     "name": "stdout",
     "output_type": "stream",
     "text": [
      "Requirement already satisfied: pyttsx3 in c:\\users\\khush\\appdata\\local\\programs\\python\\python311\\lib\\site-packages (2.90)\n",
      "Requirement already satisfied: comtypes in c:\\users\\khush\\appdata\\local\\programs\\python\\python311\\lib\\site-packages (from pyttsx3) (1.4.1)\n",
      "Requirement already satisfied: pypiwin32 in c:\\users\\khush\\appdata\\local\\programs\\python\\python311\\lib\\site-packages (from pyttsx3) (223)\n",
      "Requirement already satisfied: pywin32 in c:\\users\\khush\\appdata\\roaming\\python\\python311\\site-packages (from pyttsx3) (306)\n",
      "Note: you may need to restart the kernel to use updated packages.\n"
     ]
    },
    {
     "name": "stderr",
     "output_type": "stream",
     "text": [
      "\n",
      "[notice] A new release of pip is available: 23.2.1 -> 24.0\n",
      "[notice] To update, run: python.exe -m pip install --upgrade pip\n"
     ]
    }
   ],
   "source": [
    "pip install pyttsx3"
   ]
  },
  {
   "cell_type": "code",
   "execution_count": 3,
   "metadata": {},
   "outputs": [],
   "source": [
    "import pyttsx3"
   ]
  },
  {
   "cell_type": "code",
   "execution_count": 4,
   "metadata": {},
   "outputs": [],
   "source": [
    "def SpeechToText():\n",
    "    r=sr.Recognizer()\n",
    "    with sr.Microphone() as source:\n",
    "        try:\n",
    "            audio = r.listen(source)\n",
    "            text = r.recognize_google(audio)\n",
    "            txtSpeech.insert(tk.END, text+\"\\n\")\n",
    "        except sr.UnknownValueError:\n",
    "            txtSpeech.insert(tk.END,\"Could not understand audio\\n\")\n",
    "        except sr.RequestError as e:\n",
    "            txtSpeech.insert(tk.END, \"Error: {0}\\n\".format(e))"
   ]
  },
  {
   "cell_type": "code",
   "execution_count": 5,
   "metadata": {},
   "outputs": [],
   "source": [
    "def ResetTxtSpeech():\n",
    "    txtSpeech.delete(\"1.0\", tk.END)"
   ]
  },
  {
   "cell_type": "code",
   "execution_count": 6,
   "metadata": {},
   "outputs": [],
   "source": [
    "def ExitSystem():\n",
    "    result = messagebox.askquestion(\"Exit System\",\"Confirm if you want to exit?\")\n",
    "    if result == 'yes':\n",
    "        messagebox.showinfo(\"Goodbye\",\"Goodbye !\")\n",
    "        root.destroy()"
   ]
  },
  {
   "cell_type": "code",
   "execution_count": 8,
   "metadata": {},
   "outputs": [],
   "source": [
    "root = tk.Tk()\n",
    "root.title(\"Speech To Text\")\n",
    "\n",
    "MainFrame = tk.Frame(root, bd=20,width=900,height=300)\n",
    "MainFrame.pack()\n",
    "\n",
    "lblTitle = tk.Label(MainFrame, font=('Times New Roman',50,'bold'), text=\"Speech To Text\", width = 18)\n",
    "lblTitle.pack()\n",
    "\n",
    "txtSpeech = tk.Text(MainFrame, font=('Times New Roman',30,'bold'), width = 60, height = 10)\n",
    "txtSpeech.pack()\n",
    "\n",
    "btnConvert = tk.Button(MainFrame, font=('Times New Roman',30,'bold'), text=\"Convert To Text\", width = 18, height = 2, command = SpeechToText)\n",
    "btnConvert.pack(side=tk.LEFT, padx = 5)\n",
    "\n",
    "btnReset = tk.Button(MainFrame, font=('Times New Roman',30,'bold'), text=\"Reset\", width = 18, height = 2, command = ResetTxtSpeech)\n",
    "btnReset.pack(side=tk.LEFT, padx = 5)\n",
    " \n",
    "btnExit = tk.Button(MainFrame, font=('Times New Roman',30,'bold'), text=\"Exit\", width = 18, height = 2, command = ExitSystem)\n",
    "btnExit.pack(side=tk.LEFT, padx = 5)\n",
    "\n",
    "root.mainloop()"
   ]
  }
 ],
 "metadata": {
  "kernelspec": {
   "display_name": "Python 3",
   "language": "python",
   "name": "python3"
  },
  "language_info": {
   "codemirror_mode": {
    "name": "ipython",
    "version": 3
   },
   "file_extension": ".py",
   "mimetype": "text/x-python",
   "name": "python",
   "nbconvert_exporter": "python",
   "pygments_lexer": "ipython3",
   "version": "3.11.4"
  }
 },
 "nbformat": 4,
 "nbformat_minor": 2
}
